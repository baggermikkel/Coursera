{
    "cells": [
        {
            "cell_type": "markdown",
            "metadata": {
                "collapsed": true
            },
            "source": "# Capstone Project\n## COVID-19: Clustering the capitals of the European Union"
        },
        {
            "cell_type": "markdown",
            "metadata": {},
            "source": "### Introduction/Business Problem:\nCOVID-19 has spread all over the world. Some countries have managed to keep the pandemic \"under control\", by various means and measures. Other countries are experiencing death-rates at levels that hasn't been seen for decades. Especially the bigger cities, seem to experience higher infection-rates, compared to more rural areas. This naturally makes sense, as people in the population-density in the bigger cities, usually is much higher than in rural areas.\n\nWhether or not a city experiences high or low infection rates, naturally comes down to a lot of different factors. General hygiene, population density, awarenesss of the disease, political actions, and many more. But could there be another factor, that connects and determines whether or not a city falls victim or stays clear of the pandemic?\n\n###### Alikeness of cities as a predictor\nMy theory is that alikeness of the cities, could be an important variable to indicate the severity of the pandemic and the expected infection-rates. My reasoning for this theory, can best be explained using an example.:\nLet's say we have two cities (Metropolis and Gotham). The two cities are about the same size with equal population size/density. Metropolis is experiencing a much steeper infection-curve, compared to Gotham. The reason: Metropolis is a cultural hub with tonnes of restaurants, hotels, museums, etc.. Many of these places are perfect \"infection-hubs\" for the COVID-19. Thus, the virus spreads extremely fast. In Gotham, people generally keep to themselves; rarely eats out, there's plenty of parks, etc.. In other words, the city is by default, quite resistent to a virus like the COVID-19.\n\nBased on the types of venues in the different cities, I will use machine learning to cluster the cities into groups with a high level of alikeness. Using these clusters, it is my hope that it will be possible to tell which cities are within a \"high-risk\"-cluster, and which are in a \"low-risk\"-cluster.\nPlease note: the scope of this specific project is limited to clustering the cities. Determining the clusters risk-levels, is outside the scope of the assignment.\n\nThe findings of the report, could be of great interest to a number of groups. Most importantly, policy-makers could use the information to base adjus"
        },
        {
            "cell_type": "markdown",
            "metadata": {},
            "source": "### Data\nVenue data from the different cities will be found using the Foursquare API. The API has certain limitations on the free tier. Thus, I will limit my research to larger citites within the European Union.\n\nA list of the biggest cities within the EU can be found here:\nhttps://en.wikipedia.org/wiki/List_of_cities_in_the_European_Union_by_population_within_city_limits\nNote: wikipedia is not necesarily the most reliable resource as anyone can post on the site. However, the specific page seems to be well-cited. Furthermore, accuracy of the list in terms of ex. population is not excactly crucial to the task. I will only be needing the names of the cities for my analysis.\n\n* Using \"beautifulsoup\", I will be able to retreive the table. \n* The table does not contain information about the GPS-coordinates of the city. I will use Geolocator to do this for each city.\n\nUsing the Foursquare API, calls are made using GPS coordinates and a RADIUS. In the exercise sessions, the default vaule of RADIUS has been set to: 500 meters. Considering that I will be comapring whole cities and not just neighborhoods like in the exercise sessions, I will adjust the parameter accordingly. My initial plan is to adjust it to 5 km, but adjustments might be necesary. I will get back to this on in the analysis-section.\nI will be using the API-endpoint: explore. Explore returns a list of recommended venues near the specified location. Using the \"explore\" instead of \"search\", my hope is to retrieve the most popular places, as these are more likely to become hubs for infection, instead of the less popular places."
        },
        {
            "cell_type": "code",
            "execution_count": null,
            "metadata": {},
            "outputs": [],
            "source": ""
        }
    ],
    "metadata": {
        "kernelspec": {
            "display_name": "Python 3.6",
            "language": "python",
            "name": "python3"
        },
        "language_info": {
            "codemirror_mode": {
                "name": "ipython",
                "version": 3
            },
            "file_extension": ".py",
            "mimetype": "text/x-python",
            "name": "python",
            "nbconvert_exporter": "python",
            "pygments_lexer": "ipython3",
            "version": "3.6.9"
        }
    },
    "nbformat": 4,
    "nbformat_minor": 1
}